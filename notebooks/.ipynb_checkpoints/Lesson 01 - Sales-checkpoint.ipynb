{
 "cells": [
  {
   "cell_type": "markdown",
   "metadata": {},
   "source": [
    "# Python-Powered Excel\n",
    "\n",
    "#### Overview: \n",
    "For the class, we’ll assume the following scenario: \n",
    "You work for a small Northeastern Pennsylvania paper company. Every week you have to send reports to Corporate that include data from Sales, Accounting, Supply, and Human Resources. Those reports come individually from four different department heads: Dwight, Angela, Daryl, and Toby. \n",
    "\n",
    "Each one of them has their own particular format that fits the needs of their department, but none of them look how Corporate wants the final report to look. You’ll be taking those individual reports and ultimately compiling them into the final report for Corporate.\n",
    "\n",
    "#### Class Scope and Conventions:\n",
    "I want to reiterate that this is not an in-depth programming course.  Hopefully everyone read over chapters 1-3 in [Python for Data Analysis](https://learning.oreilly.com/library/view/python-for-data/9781491957653/) and has a basic understanding of the concepts I'll be covering.  \n",
    "\n",
    "I'll do my best to explain along the way, but the focus of this class is to understand how to read, format, and write Excel spreadsheets using Python and Pandas.  If I'm going too fast, or you don't understand something, go ahead and ask a question.  I highly recommend that everyone reads the book mentioned above after this course to gain a deeper understanding of the concepts we cover."
   ]
  },
  {
   "cell_type": "markdown",
   "metadata": {},
   "source": [
    "## Lesson 01 - The Sales Report\n",
    "\n",
    "#### Overview: \n",
    "No matter how many times you explain to Dwight that some formatting is necessary, he always sends his report in a single-page csv (comma-separated value) file. It’s just row after row of names and numbers, and of course he never puts the columns in the same order. In this lesson we’ll see how to read that sheet into Pandas and automatically handle his inconsistencies. In this lesson we'll cover the following: \n",
    "\n",
    "* Reading a simple spreadsheet\n",
    "* Cleaning Bad Data\n",
    "* Grouping and Calculations\n",
    "* Building a simple layout - Headers and Background Colors\n",
    "* Writing the data to a file\n",
    "\n",
    "#### Handy References:\n",
    "* [Official Python Documentation](https://docs.python.org/3/)\n",
    "* [Jupyter Notebook Documentation](https://jupyter-notebook.readthedocs.io/en/stable/notebook.html)\n",
    "* [Pandas](https://pandas.pydata.org/)\n",
    "* [XlsxWriter](https://xlsxwriter.readthedocs.io/)"
   ]
  },
  {
   "cell_type": "markdown",
   "metadata": {},
   "source": [
    "### Part 1: Reading Data\n",
    "\n",
    "#### Overview:\n",
    "We're starting with a simple csv (comma-separated value) document.  It's a fairly universal file format for those of you not familiar with it.  If you open it in Excel it looks a lot like any other spreadsheet, but if you were to open it with something like Notepad, it would look like the following: \n",
    "```\n",
    "Worker,Month,Client,Qty,Amt\n",
    "Jim,Mar,Blue Cross,3000,15000\n",
    "Jim,Mar,Dunmore High,2000,10000\n",
    "```\n",
    "What we're going to do is load it into this notebook using Python and Pands [read_csv](https://pandas.pydata.org/pandas-docs/stable/reference/api/pandas.read_csv.html) method.  To get started, we have to import a couple of things into the notebook.  In Python, scripts always start with imports at the top.  Think of it like getting your tools out of the toolbox so they're ready for use.  For now, let's import pandas and get our first file read into the notebook.  Moving forward I'll be importing `pandas` as `pd`.  This is a standard convention when working with pandas and is what I recommend to everyone going forward.  In addition we'll need to import the following packages:\n",
    "\n",
    "* xlsxwriter: This is the tool we'll use to write our data to Excel.  More about that later. \n",
    "* os: This is a Python module that lets us navigate files and folders on our operating system.  You can read more about it on its [documentation](https://docs.python.org/3/library/os.html) page."
   ]
  },
  {
   "cell_type": "code",
   "execution_count": null,
   "metadata": {},
   "outputs": [],
   "source": [
    "import pandas as pd\n",
    "import xlsxwriter\n",
    "import os"
   ]
  },
  {
   "cell_type": "markdown",
   "metadata": {},
   "source": [
    "#### Browsing files and folders\n",
    "Before we can read a file into Pandas, we have to know its name and how to get to it.  That's where the os module comes in handy.  Let's take a quick look at the folder we're currently in."
   ]
  },
  {
   "cell_type": "code",
   "execution_count": null,
   "metadata": {},
   "outputs": [],
   "source": [
    "# Show our current working folder\n",
    "os.getcwd()"
   ]
  },
  {
   "cell_type": "markdown",
   "metadata": {},
   "source": [
    "The file we want to read is in the 'data' folder.  We're currently in the notebook folder.  What we need to do is navigate back to the main folder, then access the 'data' folder.  To do that we need to build the path to that folder using [os.path.join()](https://docs.python.org/3/library/os.path.html#os.path.join).  It seems more complicated than it is.  We'll be combining three things:\n",
    "* Go back one directory: `..`\n",
    "* Go into the data folder: `data`\n",
    "* Select the file: `sales.csv`\n",
    "\n",
    "Putting that altogether we'd have: `os.path.join('..', 'data', 'sales.csv')`\n",
    "\n",
    "Let's explore that for a second by listing the files in this directory, then the files in the main folder, then the files in `data`."
   ]
  },
  {
   "cell_type": "code",
   "execution_count": null,
   "metadata": {},
   "outputs": [],
   "source": [
    "# The files in this folder\n",
    "os.listdir()"
   ]
  },
  {
   "cell_type": "code",
   "execution_count": null,
   "metadata": {},
   "outputs": [],
   "source": [
    "# The files in the main folder\n",
    "main_dir = os.path.join('..')\n",
    "os.listdir(main_dir)"
   ]
  },
  {
   "cell_type": "code",
   "execution_count": null,
   "metadata": {},
   "outputs": [],
   "source": [
    "# The files in the data folder\n",
    "data_dir = os.path.join('..', 'data')\n",
    "os.listdir(data_dir)"
   ]
  },
  {
   "cell_type": "markdown",
   "metadata": {},
   "source": [
    "Let's put that altogether and read our file into Pandas"
   ]
  },
  {
   "cell_type": "code",
   "execution_count": null,
   "metadata": {},
   "outputs": [],
   "source": [
    "sales_file = os.path.join(data_dir, 'sales.csv')\n",
    "df = pd.read_csv(sales_file)"
   ]
  },
  {
   "cell_type": "markdown",
   "metadata": {},
   "source": [
    "#### Exploring your data\n",
    "Now that we've read the data into the notebook, let's take a look at it. I've assigned the data to a [variable](https://docs.python.org/3/tutorial/introduction.html) called `df`.  This is standard naming convention for a [DataFrame](https://pandas.pydata.org/pandas-docs/stable/reference/api/pandas.DataFrame.html).  You can think of a DataFrame as being the pandas version of an Excel table.  There are several ways we can view the data, but for now let's focus on the following:\n",
    "* [df.head()](https://pandas.pydata.org/pandas-docs/stable/reference/api/pandas.DataFrame.head.html): View the first five rows of a DataFrame.\n",
    "* [df.info()](https://pandas.pydata.org/pandas-docs/stable/reference/api/pandas.DataFrame.info.html): Get a summary of the DataFrame.\n",
    "* [df.tail()](https://pandas.pydata.org/pandas-docs/stable/reference/api/pandas.DataFrame.tail.html): View the last five rows of a DataFrame."
   ]
  },
  {
   "cell_type": "code",
   "execution_count": null,
   "metadata": {},
   "outputs": [],
   "source": [
    "df.head()"
   ]
  },
  {
   "cell_type": "code",
   "execution_count": null,
   "metadata": {},
   "outputs": [],
   "source": [
    "df.info()"
   ]
  },
  {
   "cell_type": "code",
   "execution_count": null,
   "metadata": {},
   "outputs": [],
   "source": [
    "df.tail()"
   ]
  },
  {
   "cell_type": "markdown",
   "metadata": {},
   "source": [
    "### Replacing Text\n",
    "Instead of using actual employee names, Dwight only used a single letter to identify them.  This happens all the time so we know the employees are as follows:\n",
    "* J: Jim\n",
    "* D: Dwight\n",
    "* P: Phyllis\n",
    "* S: Stanley\n",
    "* A: Andy\n",
    "\n",
    "We quickly fix that using pandas [replace](https://pandas.pydata.org/pandas-docs/stable/reference/api/pandas.DataFrame.replace.html) method with a Python [dictionary](https://docs.python.org/3/tutorial/datastructures.html?highlight=dictionary#dictionaries).  Dictionaries are one of the most helpful data types in Python.  I will be using them throughout the class and recommend studying them more in-depth when you have time.  They consist of key: value pairs like follows:\n",
    "\n",
    "```\n",
    "my_dictionary = {key1: value1, key2: value2}\n",
    "```\n",
    "\n",
    "Let's go ahead and build a dictionary with our employee names."
   ]
  },
  {
   "cell_type": "code",
   "execution_count": null,
   "metadata": {
    "scrolled": true
   },
   "outputs": [],
   "source": [
    "employees = {\n",
    "    'J': 'Jim',\n",
    "    'D': 'Dwight',\n",
    "    'P': 'Phyllis',\n",
    "    'S': 'Stanley',\n",
    "    'A': 'Andy'\n",
    "}"
   ]
  },
  {
   "cell_type": "markdown",
   "metadata": {},
   "source": [
    "If we were in Excel, we'd do a `find and replace` for each one of those, which would be time-consuming, especially if we had more than a few names to replace.  In pandas, we can simply use `replace` to change them all at once.  We could to this a few ways, but for now let's focus on the `Worker` column.  When working with DataFrames, we select a column with the following syntax:\n",
    "```\n",
    "dataframe_name['column_name']\n",
    "```\n",
    "\n",
    "To put that together, our replace call will look like the following:\n",
    "```\n",
    "df['Worker'].replace(employees, inplace=True)\n",
    "```\n",
    "\n",
    "The `inplace=True` argument tells pandas to overwrite the existing data, rather than just print the result to the screen."
   ]
  },
  {
   "cell_type": "code",
   "execution_count": null,
   "metadata": {},
   "outputs": [],
   "source": [
    "df['Worker'].replace(employees, inplace=True)"
   ]
  },
  {
   "cell_type": "code",
   "execution_count": null,
   "metadata": {},
   "outputs": [],
   "source": [
    "df.head()"
   ]
  },
  {
   "cell_type": "markdown",
   "metadata": {},
   "source": [
    "### Aggregating Data\n",
    "\n",
    "Now that we have the names replaced, we can focus on summarizing the data and putting it back into Excel.  We need two tables:\n",
    "\n",
    "* A breakdown of all clients, their Sales Rep, their total quantity purchased and amount for the quarter.\n",
    "* A listing of all Employees, their total sales and commission by month, and total number of clients.\n",
    "\n",
    "To get those summaries, we will use [groupby](https://pandas.pydata.org/pandas-docs/stable/reference/api/pandas.DataFrame.groupby.html) and [agg](https://pandas.pydata.org/pandas-docs/stable/reference/api/pandas.DataFrame.agg.html).  Let's start with the first table:"
   ]
  },
  {
   "cell_type": "code",
   "execution_count": null,
   "metadata": {},
   "outputs": [],
   "source": [
    "sales_by_client = df.groupby(['Client', 'Worker'], as_index=False).\\\n",
    "                            agg({\n",
    "                                'Qty': [sum],\n",
    "                                'Amt': [sum]\n",
    "                                })"
   ]
  },
  {
   "cell_type": "code",
   "execution_count": null,
   "metadata": {},
   "outputs": [],
   "source": [
    "sales_by_client.head()"
   ]
  },
  {
   "cell_type": "markdown",
   "metadata": {},
   "source": [
    "We have our summary table, but our column names don't make sense.  Let's call the columns Client, Rep, Qty, and Total Amount.  We do this using by changing the value of `.columns` to the values we want.  Let's do that now.  Keep in mind that any time you use this method, the list of columns has to be EXACTLY the same length as the number of columns in your DataFrame and in the EXACT SAME ORDER."
   ]
  },
  {
   "cell_type": "code",
   "execution_count": null,
   "metadata": {},
   "outputs": [],
   "source": [
    "sales_by_client.columns = ['Client', 'Rep', 'Qty', 'Total Amount']"
   ]
  },
  {
   "cell_type": "code",
   "execution_count": null,
   "metadata": {},
   "outputs": [],
   "source": [
    "sales_by_client.head()"
   ]
  },
  {
   "cell_type": "markdown",
   "metadata": {},
   "source": [
    "### Writing to Excel\n",
    "There are two major ways we can write a DataFrame to Excel.  The first way is with pandas built-in [to_excel](https://pandas.pydata.org/pandas-docs/stable/reference/api/pandas.DataFrame.to_excel.html) method.  This is a great straightforward method to write a DataFrame to Excel but it doesn't provide a whole lot of control over formats.  "
   ]
  },
  {
   "cell_type": "code",
   "execution_count": null,
   "metadata": {},
   "outputs": [],
   "source": [
    "# First, let's define the name of the file we want to create:\n",
    "output_file = os.path.join('..', 'data', 'sales_by_client.xlsx')"
   ]
  },
  {
   "cell_type": "code",
   "execution_count": null,
   "metadata": {},
   "outputs": [],
   "source": [
    "sales_by_client.to_excel(output_file, engine='xlsxwriter')"
   ]
  },
  {
   "cell_type": "markdown",
   "metadata": {},
   "source": [
    "### Using XLSX Writer\n",
    "You can take a look at the file we just wrote by going to the 'tree/data' page of your Jupyter Notebook, selecting the 'sales_by_client.xlsx' file and downloading it.  Looking at the file, we got the data we wanted but there are some problems.  We can get a lot more control over the formatting and presentation of our spreadsheet by using [xlsxwriter](https://xlsxwriter.readthedocs.io/working_with_pandas.html) directly.  \n",
    "\n",
    "It's not as straightforward as `df.to_excel()` but it opens up a world of options to do the things you signed up for this class to do.  The steps are:\n",
    "1. Define the workbook.\n",
    "2. Define the formats.\n",
    "3. Define the worksheet.\n",
    "4. Write the data to the worksheet.\n",
    "5. Save the file.\n",
    "\n",
    "#### Define the workbook:"
   ]
  },
  {
   "cell_type": "code",
   "execution_count": null,
   "metadata": {},
   "outputs": [],
   "source": [
    "output_file = os.path.join('..', 'data', 'sales_formatted.xlsx')\n",
    "writer = pd.ExcelWriter(output_file, engine='xlsxwriter')\n",
    "workbook = writer.book"
   ]
  },
  {
   "cell_type": "markdown",
   "metadata": {},
   "source": [
    "#### Define the formats:\n",
    "* Here we're going to define a simple header format.\n",
    "* We're not going to do anything too complicated here but there's a wealth of things you can customize here.  Check out the [xlsxwriter](https://xlsxwriter.readthedocs.io/format.html) documentation page for a full list.  For now let's focus on the following:\n",
    "1. Bold Font\n",
    "2. Center Alignment\n",
    "3. Top Vertical Alignment\n",
    "4. A background and font color matching Excel's built-in Accent 1 style.\n",
    "\n",
    "<font color=red>**A word on Colors**</font>\n",
    "* Colors can be a little daunting at first.  If you want to match a certain color from Excel, you'll need to do a little work.\n",
    "* From Excel:\n",
    "1. Choose \"Fill Color\" -> More Colors -> Color Model: RGB.\n",
    "2. Use those numbers on a site like [rgbtohex.net](https://www.rgbtohex.net/) to convert the Red, Blue, Green values to Hex.\n",
    "3. The Hex value is what you need in xlsxwriter to reproduce that color.\n",
    "\n",
    "Alternatively, you can simply use Google's built-in HTML Color Picker (type those words into Google Search and the tool will open) to choose the colors you want."
   ]
  },
  {
   "cell_type": "code",
   "execution_count": null,
   "metadata": {},
   "outputs": [],
   "source": [
    "# Define the format for our header:\n",
    "header_format = workbook.add_format({\n",
    "    'bold': True, #Bold Font: This value must be either True or False\n",
    "    'align': 'center', #Center Alignment\n",
    "    'valign': 'top', #Top Alignment\n",
    "    'fg_color': '#4472C1', #Cell Color\n",
    "    'font_color': 'white', #Font Color\n",
    "    'font_size': 12, #Font Size\n",
    "})"
   ]
  },
  {
   "cell_type": "code",
   "execution_count": null,
   "metadata": {},
   "outputs": [],
   "source": [
    "# Define the format for our numbers:\n",
    "number_format = workbook.add_format({'num_format': '#,##0.00'})"
   ]
  },
  {
   "cell_type": "markdown",
   "metadata": {},
   "source": [
    "#### Write the DataFrame to Excel:"
   ]
  },
  {
   "cell_type": "code",
   "execution_count": null,
   "metadata": {},
   "outputs": [],
   "source": [
    "sheet = 'Sales Summary'\n",
    "sales_by_client.to_excel(writer, sheet_name=sheet, index=False)"
   ]
  },
  {
   "cell_type": "code",
   "execution_count": null,
   "metadata": {},
   "outputs": [],
   "source": [
    "worksheet = writer.sheets[sheet]"
   ]
  },
  {
   "cell_type": "code",
   "execution_count": null,
   "metadata": {},
   "outputs": [],
   "source": [
    "for col_num, value in enumerate(sales_by_client.columns.values):\n",
    "    worksheet.write(0, col_num, value, header_format)"
   ]
  },
  {
   "cell_type": "code",
   "execution_count": null,
   "metadata": {},
   "outputs": [],
   "source": [
    "worksheet.set_column('A:B', 14, None)\n",
    "worksheet.set_column('C:D', 14, number_format)"
   ]
  },
  {
   "cell_type": "markdown",
   "metadata": {},
   "source": [
    "#### Save the File:"
   ]
  },
  {
   "cell_type": "code",
   "execution_count": null,
   "metadata": {},
   "outputs": [],
   "source": [
    "writer.save()"
   ]
  },
  {
   "cell_type": "markdown",
   "metadata": {},
   "source": [
    "### Exercise:\n",
    "Starting at the first cell under \"Using XLSX Writer\" do the following:\n",
    "* Change the output file name to a name of your choosing.  Don't change the .xlsx part.\n",
    "* Change bold font to False\n",
    "* Change the alignment to 'left'\n",
    "* Pick a new cell color and font color from Google's HTML Color Picker\n",
    "* Change sheet name to 'Sales Custom'\n",
    "* Write the file out to Excel and Save it."
   ]
  },
  {
   "cell_type": "code",
   "execution_count": null,
   "metadata": {},
   "outputs": [],
   "source": []
  }
 ],
 "metadata": {
  "kernelspec": {
   "display_name": "Python 3",
   "language": "python",
   "name": "python3"
  },
  "language_info": {
   "codemirror_mode": {
    "name": "ipython",
    "version": 3
   },
   "file_extension": ".py",
   "mimetype": "text/x-python",
   "name": "python",
   "nbconvert_exporter": "python",
   "pygments_lexer": "ipython3",
   "version": "3.7.3"
  }
 },
 "nbformat": 4,
 "nbformat_minor": 2
}
