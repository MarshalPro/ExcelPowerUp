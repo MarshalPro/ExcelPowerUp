{
 "cells": [
  {
   "cell_type": "markdown",
   "metadata": {},
   "source": [
    "## Lesson 02 - The Accounting Report\n",
    "\n",
    "#### Overview: \n",
    "Angela, the head of accounting, sends her report in on three separate sheets:\n",
    "- Angela: Client Accounts\n",
    "- Kevin: Employee Expenses\n",
    "- Oscar: Company Expenses\n",
    "\n",
    "<font color=red>**Caveat**</font>: I don't work in finance or accounting.  These are not reflective of actual accounting documents and are presented for instructional purposes only.\n",
    "\n",
    "In this lesson we're going to talk about the following:\n",
    "* Reading multiple sheets from the same file\n",
    "* Basic Date Manipulation\n",
    "* Conditional formatting\n",
    "* Writing multiple sheets to the same file\n",
    "\n",
    "#### Handy References:\n",
    "* [Official Python Documentation](https://docs.python.org/3/)\n",
    "* [Jupyter Notebook Documentation](https://jupyter-notebook.readthedocs.io/en/stable/notebook.html)\n",
    "* [Pandas](https://pandas.pydata.org/)\n",
    "* [XlsxWriter](https://xlsxwriter.readthedocs.io/)"
   ]
  },
  {
   "cell_type": "markdown",
   "metadata": {},
   "source": [
    "### Reading Multiple Sheets\n",
    "\n",
    "The file we're working with is /data/accounting.xlsx.  Everyone go ahead and download it and take a quick look.  It always helps to get an idea of how the source file is laid out before reading it into Python.\n",
    "\n",
    "You have three separate sheets, labeled 'Angela', 'Kevin', and 'Oscar'.\n",
    "* Angela's sheet is a listing of clients, bill dates, bill amounts, paid amounts, the date, and the balance due.\n",
    "* Kevin's sheet is a listing of employee expense requests and the amount approved and paid.\n",
    "* Oscar's sheet is simply a list of company expenses that were paid out, broken down by month.\n",
    "\n",
    "We're going to read the whole file into pandas using the [read_excel](https://pandas.pydata.org/pandas-docs/stable/reference/api/pandas.read_excel.html) method.  As before, the first thing we have to do is import the required packages and define the path the file we want to read."
   ]
  },
  {
   "cell_type": "code",
   "execution_count": null,
   "metadata": {},
   "outputs": [],
   "source": [
    "# File Imports\n",
    "import pandas as pd\n",
    "import xlsxwriter\n",
    "import os"
   ]
  },
  {
   "cell_type": "code",
   "execution_count": null,
   "metadata": {},
   "outputs": [],
   "source": [
    "# Define the path to the file\n",
    "accounting_file = os.path.join('..', 'data', 'accounting.xlsx')"
   ]
  },
  {
   "cell_type": "markdown",
   "metadata": {},
   "source": [
    "Let's start by reading in the sheets individually and taking a look at them in pandas."
   ]
  },
  {
   "cell_type": "code",
   "execution_count": null,
   "metadata": {},
   "outputs": [],
   "source": [
    "angela_df = pd.read_excel(accounting_file, sheet_name='Angela')"
   ]
  },
  {
   "cell_type": "code",
   "execution_count": null,
   "metadata": {},
   "outputs": [],
   "source": [
    "angela_df.head()"
   ]
  },
  {
   "cell_type": "code",
   "execution_count": null,
   "metadata": {},
   "outputs": [],
   "source": [
    "kevin_df = pd.read_excel(accounting_file, sheet_name='Kevin')"
   ]
  },
  {
   "cell_type": "code",
   "execution_count": null,
   "metadata": {},
   "outputs": [],
   "source": [
    "kevin_df.head()"
   ]
  },
  {
   "cell_type": "code",
   "execution_count": null,
   "metadata": {},
   "outputs": [],
   "source": [
    "oscar_df = pd.read_excel(accounting_file, sheet_name='Oscar')"
   ]
  },
  {
   "cell_type": "code",
   "execution_count": null,
   "metadata": {},
   "outputs": [],
   "source": [
    "oscar_df.head()"
   ]
  },
  {
   "cell_type": "markdown",
   "metadata": {},
   "source": [
    "#### Reading all sheets at once\n",
    "* We can read all the worksheets in a single Excel file with one command by changing `sheet_name` from the name of the sheet to `None`.\n",
    "* Instead of getting a single dataframe, we'll get an  [Ordered Dictionary](https://docs.python.org/2/library/collections.html#collections.OrderedDict) containing the name of each sheet as the key and the data as the value.\n",
    "* We talked about dictionaries in Python in the previous lesson.  Ordered Dictionaries are much the same, except the keys are in a specific order.\n",
    "* Let's take a look at the data:"
   ]
  },
  {
   "cell_type": "code",
   "execution_count": null,
   "metadata": {},
   "outputs": [],
   "source": [
    "frames = pd.read_excel(accounting_file, sheet_name=None)"
   ]
  },
  {
   "cell_type": "code",
   "execution_count": null,
   "metadata": {},
   "outputs": [],
   "source": [
    "# Accessing the list of keys in a Dictionary\n",
    "frames.keys()"
   ]
  },
  {
   "cell_type": "code",
   "execution_count": null,
   "metadata": {},
   "outputs": [],
   "source": [
    "# Accessing a single value from a dictionary\n",
    "frames['Angela'].head()"
   ]
  },
  {
   "cell_type": "markdown",
   "metadata": {},
   "source": [
    "We've got access to our data, so let's do some quick summary calculations.  Looking at Angela's data, let's sum by Customer and Month.  Since Angela used \"Bill Date\" and we need the Month, let's create a new column for that.  "
   ]
  },
  {
   "cell_type": "markdown",
   "metadata": {},
   "source": [
    "### Basic Date Manipulation\n",
    "* Dates and Times are a fairly complex subject when it comes to Python and pandas.  For this lesson I'm going to cover a few basic techniques but I encourage you to spend some time reading about them on your own after the class.\n",
    "* Pandas will normally read Excel date-time fields as a date-time type.  We can verify it did by using `.info()` on our dataframe:"
   ]
  },
  {
   "cell_type": "code",
   "execution_count": null,
   "metadata": {},
   "outputs": [],
   "source": [
    "angela_df = frames['Angela']\n",
    "angela_df.info()"
   ]
  },
  {
   "cell_type": "markdown",
   "metadata": {},
   "source": [
    "*Note: This is a good time to address a vocabulary issue.  I've been referring to columns throughout the class so far, because that's what we call them in Excel and in most tables.  Pandas referrs to a column as a [Series](https://pandas.pydata.org/pandas-docs/stable/reference/api/pandas.Series.html).  When you're looking at the documentation, just remember a Series is a column.*\n",
    "\n",
    "* Let's say we wanted to extract the month from our 'Bill Date' column.\n",
    "* You can see that 'Bill Date' column is a `datetime64[ns]` object, which is exactly what we need.  If it wasn't, you could convert it with [pd.to_datetime](https://pandas.pydata.org/pandas-docs/stable/reference/api/pandas.to_datetime.html).\n",
    "* From there we can use [Series.dt.month](https://pandas.pydata.org/pandas-docs/stable/reference/api/pandas.Series.dt.month.html) to extract the number of the month from the column.  Let's see what that gives us:"
   ]
  },
  {
   "cell_type": "code",
   "execution_count": null,
   "metadata": {
    "scrolled": true
   },
   "outputs": [],
   "source": [
    "angela_df['Bill Date'].dt.month.head()"
   ]
  },
  {
   "cell_type": "markdown",
   "metadata": {},
   "source": [
    "#### Erroneous Data\n",
    "* Let's try the same thing with the `Paid Date` column.\n",
    "* If you notice from our .info() command earlier, that column is an `object` data type and not a datetime."
   ]
  },
  {
   "cell_type": "code",
   "execution_count": null,
   "metadata": {},
   "outputs": [],
   "source": [
    "angela_df['Paid Date'].dt.month.head()"
   ]
  },
  {
   "cell_type": "markdown",
   "metadata": {},
   "source": [
    "##### Python Errors\n",
    "For a lot of us, that probably looks like a lot of meaningless information.  If you look at the top of the output, you'll see `AttributeError` in red text, followed a couple of lines later by `----> 1 angela_df['Paid Date'].dt.month.head()`.  \n",
    "* That line is telling us the problem is on Line 1 with the command listed.\n",
    "* The next several lines point to the pandas library and show us what parts of the library the error occurred in.\n",
    "* The last line `AttributeError: Can only use .dt accessor with datetimelike values` tells us what the actual problem is.\n",
    "\n",
    "Reading and understanding error messages in Python, or any programming language, is something that comes with time and experience.  Whenever you get an error, always look for the line in your code that caused the error, and the reason the error happened.  From there it's usually possible through a combination of research and reading to determine what went wrong and how to fix it.  In our case, it's because we tried to use a method that only works on datetimes on some data that was not a datetime.  Let's fix that now:\n",
    "* We will assign the column `angela_df['Paid Date']` to the value `pd.to_datetime(angela_df['Paid Date'])`:"
   ]
  },
  {
   "cell_type": "code",
   "execution_count": null,
   "metadata": {},
   "outputs": [],
   "source": [
    "angela_df['Paid Date'] = pd.to_datetime(angela_df['Paid Date'])"
   ]
  },
  {
   "cell_type": "markdown",
   "metadata": {},
   "source": [
    "Oops... we got another error.  This time we got a `TypeError` because the column contains some values that can't be converted to datetimes.  The line above that reads `ValueError: Error parsing datetime string \"-\" at position 1` tells us that is the problem.  \n",
    "\n",
    "If you look at the documentation page for [to_datetime](https://pandas.pydata.org/pandas-docs/stable/reference/api/pandas.to_datetime.html), you'll see we can change how errors are handled.  In our case, we'll set errors to `coerce`.  That will cause the command to convert every row possible, and set the others to a value called `NaT`.  All that means is that the value is Not a Time, or not a datetime.\n",
    "\n",
    "Let's try that now:"
   ]
  },
  {
   "cell_type": "code",
   "execution_count": null,
   "metadata": {
    "scrolled": true
   },
   "outputs": [],
   "source": [
    "pd.to_datetime(angela_df['Paid Date'], errors='coerce')"
   ]
  },
  {
   "cell_type": "markdown",
   "metadata": {},
   "source": [
    "If you look at lines 48 and 49 above, you'll see they are set to `NaT`.  We'll deal with those in just a second.  For now, let's assign that data back to the 'Paid Date' column."
   ]
  },
  {
   "cell_type": "code",
   "execution_count": null,
   "metadata": {},
   "outputs": [],
   "source": [
    "angela_df['Paid Date'] = pd.to_datetime(angela_df['Paid Date'], errors='coerce')"
   ]
  },
  {
   "cell_type": "markdown",
   "metadata": {},
   "source": [
    "Now that we have our columns converted to the proper type, we want to calculate the turnaround time between the bill date and the paid date.  In Excel, we'd write a formula that subtracted the Bill Date from the Paid Date.  In pandas, we're simply going to do the calculation.  I'm keeping this fairly basic, but you can do some phenonminal stuff with column-wise operations in pandas.  I encourage everyone to further explore [Python for Data Analysis](https://learning.oreilly.com/library/view/python-for-data/9781491957653/) to see just how much is possible."
   ]
  },
  {
   "cell_type": "code",
   "execution_count": null,
   "metadata": {},
   "outputs": [],
   "source": [
    "angela_df['Turnaround Time'] = angela_df['Paid Date'] - angela_df['Bill Date']"
   ]
  },
  {
   "cell_type": "code",
   "execution_count": null,
   "metadata": {},
   "outputs": [],
   "source": [
    "angela_df.head()"
   ]
  },
  {
   "cell_type": "markdown",
   "metadata": {},
   "source": [
    "We have one final step before 'Turnaround Time' is complete.  Right now the column is still a date-time column, which menas we can't perform summary calculations like 'average' on it.  We have to tell pandas that it is an actual number.  We do this by using the [to_timedelta()](https://pandas.pydata.org/pandas-docs/version/0.24.0rc1/api/generated/pandas.to_timedelta.html) method.  You can read more about that method on the documentation page.  \n",
    "\n",
    "We're telling pandas that to convert 'Turnaround Time' to units of 1 Day, or 1 'D'."
   ]
  },
  {
   "cell_type": "code",
   "execution_count": null,
   "metadata": {},
   "outputs": [],
   "source": [
    "angela_df['Turnaround Time'] = angela_df['Turnaround Time'] / pd.to_timedelta(1, unit='D')"
   ]
  },
  {
   "cell_type": "markdown",
   "metadata": {},
   "source": [
    "The next thing we want to do is create a summary table of our customers broken down by month that shows the following:\n",
    "* Customer\n",
    "* Month\n",
    "* Total billed\n",
    "* Total paid\n",
    "* Total balance\n",
    "* Average turnaround time\n",
    "\n",
    "We'll start by converting 'Bill Date' just the month and not the full date. We'll also create a new column to hold the actual month name of the 'Bill Date' column.  We talked about getting the month number earlier.\n",
    "\n",
    "Python gives us an excellent and easy way to get the actual month name: [strftime](https://pandas.pydata.org/pandas-docs/stable/reference/api/pandas.Series.dt.strftime.html), which is short for 'string-formatted time'.  We will use `%B` code to extract what we need.\n",
    "\n",
    "*Note: You can find a complete list of strftime codes at [basic date and time types](https://docs.python.org/3/library/datetime.html#strftime-and-strptime-behavior)*"
   ]
  },
  {
   "cell_type": "code",
   "execution_count": null,
   "metadata": {},
   "outputs": [],
   "source": [
    "angela_df['Month'] = angela_df['Bill Date'].dt.strftime('%B')\n",
    "angela_df['Bill Date'] = angela_df['Bill Date'].dt.month"
   ]
  },
  {
   "cell_type": "markdown",
   "metadata": {},
   "source": [
    "We are leaving both columns for now so that we can sort by the month number.  Then, in our summary table, we will drop the month number altogether."
   ]
  },
  {
   "cell_type": "markdown",
   "metadata": {},
   "source": [
    "Now we can create our summary table: "
   ]
  },
  {
   "cell_type": "code",
   "execution_count": null,
   "metadata": {},
   "outputs": [],
   "source": [
    "customer_summary = angela_df.groupby(['Bill Date', 'Month', 'Customer'], as_index=False).agg({\n",
    "                        'Amount': [sum],\n",
    "                        'Paid': [sum],\n",
    "                        'Balance': [sum],\n",
    "                        'Turnaround Time': [\"mean\"]\n",
    "                    })"
   ]
  },
  {
   "cell_type": "code",
   "execution_count": null,
   "metadata": {},
   "outputs": [],
   "source": [
    "customer_summary.head()"
   ]
  },
  {
   "cell_type": "markdown",
   "metadata": {},
   "source": [
    "You'll notice that I put \"mean\" in quotes above.  Some aggregations can be written without quotes and others need to be put in quotations.  You can find more information on the [documentation page](https://pandas.pydata.org/pandas-docs/stable/reference/api/pandas.DataFrame.agg.html).\n",
    "\n",
    "Now that we have our summary table, let's rename the columns and drop 'Bill Date'.  You probably remember the column renaming from the previous lesson."
   ]
  },
  {
   "cell_type": "code",
   "execution_count": null,
   "metadata": {},
   "outputs": [],
   "source": [
    "customer_summary.columns = ['Bill Date', \n",
    "                            'Month', \n",
    "                            'Customer', \n",
    "                            'Total Billed', \n",
    "                            'Total Paid', \n",
    "                            'Balance', \n",
    "                            'Turnaround Time']"
   ]
  },
  {
   "cell_type": "markdown",
   "metadata": {},
   "source": [
    "To drop a column, we will use [df.drop()](https://pandas.pydata.org/pandas-docs/stable/reference/api/pandas.DataFrame.drop.html):"
   ]
  },
  {
   "cell_type": "code",
   "execution_count": null,
   "metadata": {},
   "outputs": [],
   "source": [
    "customer_summary.drop(columns=['Bill Date'], inplace=True)"
   ]
  },
  {
   "cell_type": "code",
   "execution_count": null,
   "metadata": {},
   "outputs": [],
   "source": [
    "customer_summary.head()"
   ]
  },
  {
   "cell_type": "markdown",
   "metadata": {},
   "source": [
    "This table is far from perfect, we have some `NaN` values that we will talk about in the next lesson, and ideally this whole table would be split into separate tables by month or by customer.  We will also be covering that before the class is over.  For now, let's get our other two sheets taken care of then write this data to Excel.\n",
    "\n",
    "Let's tackle Kevin's worksheet first:"
   ]
  },
  {
   "cell_type": "code",
   "execution_count": null,
   "metadata": {},
   "outputs": [],
   "source": [
    "kevin_df = frames['Kevin']"
   ]
  },
  {
   "cell_type": "code",
   "execution_count": null,
   "metadata": {},
   "outputs": [],
   "source": [
    "kevin_df.head()"
   ]
  },
  {
   "cell_type": "code",
   "execution_count": null,
   "metadata": {},
   "outputs": [],
   "source": [
    "# Get the month column\n",
    "kevin_df['Month'] = kevin_df['Date'].dt.strftime('%B')"
   ]
  },
  {
   "cell_type": "code",
   "execution_count": null,
   "metadata": {},
   "outputs": [],
   "source": [
    "# Convert the month column to the number of the month\n",
    "kevin_df['Date'] = kevin_df['Date'].dt.month"
   ]
  },
  {
   "cell_type": "code",
   "execution_count": null,
   "metadata": {},
   "outputs": [],
   "source": [
    "expenses_summary = kevin_df.groupby(['Date', 'Month', 'Employee'], as_index=False).agg({\n",
    "    'Amount Requested': [sum],\n",
    "    'Amount Paid': [sum],\n",
    "})"
   ]
  },
  {
   "cell_type": "code",
   "execution_count": null,
   "metadata": {},
   "outputs": [],
   "source": [
    "expenses_summary.head()"
   ]
  },
  {
   "cell_type": "code",
   "execution_count": null,
   "metadata": {},
   "outputs": [],
   "source": [
    "expenses_summary.columns = ['Date', 'Month', 'Employee', 'Amount Requested', 'Amount Paid']\n",
    "expenses_summary.drop(columns=['Date'], inplace=True)"
   ]
  },
  {
   "cell_type": "code",
   "execution_count": null,
   "metadata": {},
   "outputs": [],
   "source": [
    "expenses_summary.head()"
   ]
  },
  {
   "cell_type": "markdown",
   "metadata": {},
   "source": [
    "And now Oscar's report:"
   ]
  },
  {
   "cell_type": "code",
   "execution_count": null,
   "metadata": {},
   "outputs": [],
   "source": [
    "company_expenses = frames['Oscar']"
   ]
  },
  {
   "cell_type": "code",
   "execution_count": null,
   "metadata": {},
   "outputs": [],
   "source": [
    "company_expenses.head()"
   ]
  },
  {
   "cell_type": "markdown",
   "metadata": {},
   "source": [
    "### Writing the data to Excel\n",
    "\n",
    "Fortunately, Oscar's sheet is pretty much in the format we want.  It's time to write everything to Excel.  We know from the previous lesson that we need to:\n",
    "1. Define the workbook\n",
    "2. Define the formats\n",
    "3. Define the worksheet\n",
    "4. Write the data\n",
    "5. Save the file\n",
    "\n",
    "Most of this will be familiar.  The key difference is, instead of writing one sheet, we're going to write three and we're going to be using some conditional formats."
   ]
  },
  {
   "cell_type": "markdown",
   "metadata": {},
   "source": [
    "#### Define the workbook:"
   ]
  },
  {
   "cell_type": "code",
   "execution_count": null,
   "metadata": {},
   "outputs": [],
   "source": [
    "output_file = os.path.join('..', 'data', 'accounting_summary.xlsx')\n",
    "writer = pd.ExcelWriter(output_file, engine='xlsxwriter')\n",
    "workbook = writer.book"
   ]
  },
  {
   "cell_type": "markdown",
   "metadata": {},
   "source": [
    "#### Define the formats:\n",
    "* Here we're going to use the same header format form the previous lesson.\n",
    "* You can always loook at the [xlsxwriter](https://xlsxwriter.readthedocs.io/format.html) documentation page for more references.  \n",
    "* Remember, for our header format we use:\n",
    "1. Bold Font\n",
    "2. Center Alignment\n",
    "3. Top Vertical Alignment\n",
    "4. A background and font color matching Excel's built-in Accent 1 style."
   ]
  },
  {
   "cell_type": "code",
   "execution_count": null,
   "metadata": {},
   "outputs": [],
   "source": [
    "# Define the format for our header:\n",
    "header_format = workbook.add_format({\n",
    "    'bold': True, #Bold Font: This value must be either True or False\n",
    "    'align': 'center', #Center Alignment\n",
    "    'valign': 'top', #Top Alignment\n",
    "    'fg_color': '#4472C1', #Cell Color\n",
    "    'font_color': 'white', #Font Color\n",
    "    'font_size': 12, #Font Size\n",
    "})"
   ]
  },
  {
   "cell_type": "code",
   "execution_count": null,
   "metadata": {},
   "outputs": [],
   "source": [
    "# Define the format for our numbers:\n",
    "money_format = workbook.add_format({'num_format': '$#,##0'})\n",
    "number_format = workbook.add_format({'num_format': '#,##0'})"
   ]
  },
  {
   "cell_type": "markdown",
   "metadata": {},
   "source": [
    "#### Conditional Format:\n",
    "* Now let's define our conditional format.  We want any customer with a negative balance to show as Excel's \"Light red fill with dark text\".  \n",
    "* To do that we'll define a background color (bg_color) of '#FFC7CE' which is the color Excel uses.\n",
    "* We'll also define a font color (font_color) of '#9C0006'."
   ]
  },
  {
   "cell_type": "code",
   "execution_count": null,
   "metadata": {},
   "outputs": [],
   "source": [
    "red_color = workbook.add_format({'bg_color': '#FFC7CE',\n",
    "                            'font_color': '#9C0006'})"
   ]
  },
  {
   "cell_type": "markdown",
   "metadata": {},
   "source": [
    "#### Write the Data to Excel:\n",
    "* We have three dataframes: 'customer_summary', 'expenses_summary', and 'company_expenses'\n",
    "* We'll write each one to the workbook before saving the file.\n",
    "* We'll also add the conditional formatting to customer_summary."
   ]
  },
  {
   "cell_type": "code",
   "execution_count": null,
   "metadata": {},
   "outputs": [],
   "source": [
    "# Define the customer summary sheet and write the data to Excel\n",
    "sheet = 'Customer Summary'\n",
    "customer_summary.to_excel(writer, sheet_name=sheet, index=False)"
   ]
  },
  {
   "cell_type": "code",
   "execution_count": null,
   "metadata": {},
   "outputs": [],
   "source": [
    "# Define the worksheet\n",
    "worksheet = writer.sheets[sheet]"
   ]
  },
  {
   "cell_type": "code",
   "execution_count": null,
   "metadata": {},
   "outputs": [],
   "source": [
    "# Write the headers to the worksheet\n",
    "for col_num, value in enumerate(customer_summary.columns.values):\n",
    "    worksheet.write(0, col_num, value, header_format)"
   ]
  },
  {
   "cell_type": "code",
   "execution_count": null,
   "metadata": {},
   "outputs": [],
   "source": [
    "# Set the numerical columns\n",
    "worksheet.set_column('A:B', 14, None)\n",
    "worksheet.set_column('C:E', 14, money_format)\n",
    "worksheet.set_column('F:F', 14, number_format)"
   ]
  },
  {
   "cell_type": "markdown",
   "metadata": {},
   "source": [
    "#### Assigning the conditional formats\n",
    "* To assign a conditional format, we use the method outlined on the [conditional format](https://xlsxwriter.readthedocs.io/working_with_conditional_formats.html) page of Xlsxwriter.\n",
    "* We need the first row, the first column, the last row, and last column where we want the formatting applied.\n",
    "* Then we need to assign the criteria for the format.\n",
    "* Lastly we state what format to apply: All cells in the defined range where the value is less than zero."
   ]
  },
  {
   "cell_type": "code",
   "execution_count": null,
   "metadata": {},
   "outputs": [],
   "source": [
    "# Set the conditional formats\n",
    "first_row = 1 # The first row where we have data\n",
    "first_column = 4 # The balance column\n",
    "last_row = len(customer_summary.index) # The length of the dataframe\n",
    "last_column = 4 # because we only want the formatting applied to the balance column\n",
    "conditions = {\n",
    "    'type': 'cell', # Because we want to apply the formatting to each individual cell\n",
    "    'criteria': '<', # for less than\n",
    "    'value': 0,\n",
    "    'format': red_color,\n",
    "}\n",
    "\n",
    "worksheet.conditional_format(first_row,\n",
    "                            first_column,\n",
    "                            last_row,\n",
    "                            last_column,\n",
    "                            conditions,)"
   ]
  },
  {
   "cell_type": "markdown",
   "metadata": {},
   "source": [
    "### Writing the remaining sheets\n",
    "* We have our first sheet completed.  Writing the remaining sheets should not be too difficult.\n",
    "* Complete the exercises below to write the remaining sheets to the file and save the workbook.\n",
    "\n",
    "#### Expenses Summary Exercise\n",
    "* Sheet Name: `Expense Summary`\n",
    "* DataFrame: `expenses_summary`\n",
    "* None Columns: `Month, Employee`\n",
    "* Money Columns: `Amount Requested, Amount Paid`\n",
    "* Complete the code below using the information provided.\n",
    "* You can get the letters for the columns by looking at the .head() output earlier, with `Month` being Column A. "
   ]
  },
  {
   "cell_type": "code",
   "execution_count": null,
   "metadata": {},
   "outputs": [],
   "source": [
    "# Define the sheet\n",
    "sheet = '_______________'\n",
    "\n",
    "# Write the Dataframe to Excel\n",
    "________________.to_excel(writer, sheet_name=sheet, index=False)\n",
    "\n",
    "# Define the worksheet\n",
    "worksheet = writer.sheets[sheet]\n",
    "\n",
    "# Write the headers to the worksheet\n",
    "for col_num, value in enumerate(________________.columns.values):\n",
    "    worksheet.write(0, col_num, value, header_format)\n",
    "\n",
    "# Set the numerical columns\n",
    "worksheet.set_column('_:_', 14, ____)\n",
    "worksheet.set_column('_:_', 14, ____________)"
   ]
  },
  {
   "cell_type": "markdown",
   "metadata": {},
   "source": [
    "#### Expenses Summary Exercise\n",
    "* Sheet Name: `Company Expenses`\n",
    "* DataFrame: `company_expenses`\n",
    "* None Columns: `Month, Items`\n",
    "* Money Columns: `Amount Paid`\n",
    "* Complete the code below using the information provided."
   ]
  },
  {
   "cell_type": "code",
   "execution_count": null,
   "metadata": {},
   "outputs": [],
   "source": [
    "# Define the sheet\n",
    "sheet = '_______________'\n",
    "_______________.to_excel(writer, sheet_name=sheet, index=False)\n",
    "# Define the worksheet\n",
    "worksheet = writer.sheets[sheet]\n",
    "# Write the headers to the worksheet\n",
    "for col_num, value in enumerate(_______________.columns.values):\n",
    "    worksheet.write(0, col_num, value, header_format)\n",
    "# Set the numerical columns\n",
    "worksheet.set_column('_:_', 14, ____)\n",
    "worksheet.set_column('_:_', 14, ___________)"
   ]
  },
  {
   "cell_type": "markdown",
   "metadata": {},
   "source": [
    "#### Save the File:"
   ]
  },
  {
   "cell_type": "code",
   "execution_count": null,
   "metadata": {},
   "outputs": [],
   "source": [
    "writer.save()"
   ]
  },
  {
   "cell_type": "code",
   "execution_count": null,
   "metadata": {},
   "outputs": [],
   "source": []
  }
 ],
 "metadata": {
  "kernelspec": {
   "display_name": "Python 3",
   "language": "python",
   "name": "python3"
  },
  "language_info": {
   "codemirror_mode": {
    "name": "ipython",
    "version": 3
   },
   "file_extension": ".py",
   "mimetype": "text/x-python",
   "name": "python",
   "nbconvert_exporter": "python",
   "pygments_lexer": "ipython3",
   "version": "3.7.3"
  }
 },
 "nbformat": 4,
 "nbformat_minor": 2
}
