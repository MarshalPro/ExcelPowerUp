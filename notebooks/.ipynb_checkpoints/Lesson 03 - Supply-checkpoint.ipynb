{
 "cells": [
  {
   "cell_type": "markdown",
   "metadata": {},
   "source": [
    "## Lesson 03 - The Supply Report\n",
    "\n",
    "#### Overview: \n",
    "\n",
    "In this lesson we're going to talk about the following:\n",
    "* Transposing Data\n",
    "* Assembling multiple tables into one\n",
    "* Python Functions\n",
    "\n",
    "#### Handy References:\n",
    "* [Official Python Documentation](https://docs.python.org/3/)\n",
    "* [Jupyter Notebook Documentation](https://jupyter-notebook.readthedocs.io/en/stable/notebook.html)\n",
    "* [Pandas](https://pandas.pydata.org/)\n",
    "* [XlsxWriter](https://xlsxwriter.readthedocs.io/)"
   ]
  },
  {
   "cell_type": "markdown",
   "metadata": {},
   "source": [
    "### Transposing Data\n",
    "\n",
    "The file we're working with is /data/supply.xlsx.  Go ahead and take a quick look at it.  This one has more formatting than the previous files and uses some formulas.\n",
    "\n",
    "You have three separate sheets, labeled 'March', 'April', and 'May'.\n",
    "* We want to read all three sheets, transpose them, and combine them into a single DataFrame.\n",
    "* We will then summarize the data and write it out to a new file.\n",
    "* We'll also discuss functions as a way to shorten our workflow and reduce retyping the same code.\n",
    "\n",
    "As always, let's import our tools and define the file we'll be working with."
   ]
  },
  {
   "cell_type": "code",
   "execution_count": null,
   "metadata": {},
   "outputs": [],
   "source": [
    "# File Imports\n",
    "import pandas as pd\n",
    "import xlsxwriter\n",
    "import os"
   ]
  },
  {
   "cell_type": "code",
   "execution_count": null,
   "metadata": {},
   "outputs": [],
   "source": [
    "# Define the path to the file\n",
    "supply_file = os.path.join('..', 'data', 'supply.xlsx')"
   ]
  },
  {
   "cell_type": "markdown",
   "metadata": {},
   "source": [
    "Now we can read the file in and take a look at the various tables:"
   ]
  },
  {
   "cell_type": "code",
   "execution_count": null,
   "metadata": {},
   "outputs": [],
   "source": [
    "frames = pd.read_excel(supply_file, sheet_name=None)"
   ]
  },
  {
   "cell_type": "code",
   "execution_count": null,
   "metadata": {},
   "outputs": [],
   "source": [
    "frames['March'].head()"
   ]
  },
  {
   "cell_type": "markdown",
   "metadata": {},
   "source": [
    "### Assembling the data into a single DataFrame\n",
    "* All three sheets are identical to 'March'.\n",
    "* We want to assemble them all into a single DataFrame that also contains the sheet name, or month.\n",
    "* To start, we need to define the process that needs to happen to a single DataFrame:\n",
    "* * Transpose the data with [.transpose()](https://pandas.pydata.org/pandas-docs/stable/reference/api/pandas.DataFrame.transpose.html)\n",
    "* * Reset the index with [.reset_index()](https://pandas.pydata.org/pandas-docs/stable/reference/api/pandas.DataFrame.reset_index.html)\n",
    "* * Set the first row as the columns with df.columns\n",
    "* * Drop the first row\n",
    "* * Add the sheet name as the 'Month' Column\n",
    "\n",
    "That's a lot to do if we have to do it three individual times.  We'll build a reusable [function](https://docs.python.org/3/tutorial/controlflow.html#defining-functions) that takes a sheet name as an argument, performs the actions listed above, and returns our formatted dataframe.  You can read more about them in the linked reference, but functions are created like this:\n",
    "\n",
    "```\n",
    "def add_two_numbers(a, b):\n",
    "    result = a + b\n",
    "    return result\n",
    "```\n",
    "\n",
    "We use `def` to tell Python we're creating a function.  In parentheses we put placeholders for the arguments we want to give that function.  Then we add our commands to the function.  The last thing we do is use `return` to define what the function gives us back.  Let's build one now that does what we need for our data. "
   ]
  },
  {
   "cell_type": "code",
   "execution_count": null,
   "metadata": {},
   "outputs": [],
   "source": [
    "def format_dataframe(frames, sheet_name):\n",
    "    '''formats data from supply.xlsx''' # This is a docstring that tells us what the function does\n",
    "    # Define the dataframe\n",
    "    df = pd.DataFrame(frames[sheet_name])\n",
    "    \n",
    "    # Reset the index\n",
    "    df = df.T.reset_index()\n",
    "    \n",
    "    # Set the first row as the columns\n",
    "    df.columns = df.loc[0]\n",
    "    \n",
    "    # Drop the first row\n",
    "    df.drop([0], inplace=True)\n",
    "    \n",
    "    # Add the sheet name as a column\n",
    "    df['Month'] = sheet_name\n",
    "    \n",
    "    # Return the dataframe\n",
    "    return df"
   ]
  },
  {
   "cell_type": "markdown",
   "metadata": {},
   "source": [
    "Ok, let's give it a try with 'March':"
   ]
  },
  {
   "cell_type": "code",
   "execution_count": null,
   "metadata": {},
   "outputs": [],
   "source": [
    "march_formatted = format_dataframe(frames, 'March')"
   ]
  },
  {
   "cell_type": "code",
   "execution_count": null,
   "metadata": {},
   "outputs": [],
   "source": [
    "march_formatted.head()"
   ]
  },
  {
   "cell_type": "markdown",
   "metadata": {},
   "source": [
    "#### Using flow control\n",
    "Our function works and that's great!  What we need is a way to use that function on every sheet in `frames`, add the formatted DataFrame to a list, and finally assemble all of those frames into a single table.  \n",
    "\n",
    "* We'll start by creating an empty list: `formatted_dfs`\n",
    "* We will then iterate through `frames.keys()` using a [for loop](https://docs.python.org/3/tutorial/controlflow.html#for-statements) and [append](https://docs.python.org/2/tutorial/datastructures.html) the data to our empty list."
   ]
  },
  {
   "cell_type": "code",
   "execution_count": null,
   "metadata": {},
   "outputs": [],
   "source": [
    "# Create the empty list:\n",
    "formatted_dfs = []\n",
    "\n",
    "# Iterate through our frames\n",
    "for f in frames.keys():\n",
    "    df = format_dataframe(frames, f)\n",
    "    # Add the formatted frame to our list\n",
    "    formatted_dfs.append(df)"
   ]
  },
  {
   "cell_type": "code",
   "execution_count": null,
   "metadata": {},
   "outputs": [],
   "source": [
    "# Checkout our data:\n",
    "formatted_dfs[0].head()"
   ]
  },
  {
   "cell_type": "code",
   "execution_count": null,
   "metadata": {},
   "outputs": [],
   "source": [
    "formatted_dfs[1].head()"
   ]
  },
  {
   "cell_type": "code",
   "execution_count": null,
   "metadata": {},
   "outputs": [],
   "source": [
    "formatted_dfs[2].head()"
   ]
  },
  {
   "cell_type": "markdown",
   "metadata": {},
   "source": [
    "The next thing we need to do is [concatenate](https://pandas.pydata.org/pandas-docs/stable/reference/api/pandas.concat.html), or combine all of those frames into a single DataFrame."
   ]
  },
  {
   "cell_type": "code",
   "execution_count": null,
   "metadata": {},
   "outputs": [],
   "source": [
    "summary_df = pd.concat(formatted_dfs, ignore_index=True)"
   ]
  },
  {
   "cell_type": "code",
   "execution_count": null,
   "metadata": {},
   "outputs": [],
   "source": [
    "summary_df"
   ]
  },
  {
   "cell_type": "markdown",
   "metadata": {},
   "source": [
    "### Using a List Comprehension\n",
    "Before we move on, let's examine the method we used to get that DataFrame.  We created an empty list, then added items to it one at a time, then performed an action on that list.  Doing all of that is computationally expensive.  It is relatively slow and creates multiple copies of our data.  What we could do is use a [list comprehension](https://docs.python.org/3/tutorial/datastructures.html#list-comprehensions) instead.  It may look a little complex at first, but it is much more efficient.  When you move beyond this class and are working with real data, you'll notice the difference.\n",
    "\n",
    "* List comprehensions create lists in place, rather than iterating through something and appending items to a list.\n",
    "* You can read more about them using the link above, but for now remember the syntax is:\n",
    "* * `new_list = [item for item in original object]`\n",
    "* * As an example, let's say we want the square of every number in a given list:\n",
    "```\n",
    "my_numbers = [1, 2, 3, 4, 5]\n",
    "squared_nums = [i**2 for i in my_numbers]\n",
    "```\n",
    "* Let's change our previous code into a list comprehension: "
   ]
  },
  {
   "cell_type": "code",
   "execution_count": null,
   "metadata": {},
   "outputs": [],
   "source": [
    "# Previous Code:\n",
    "'''\n",
    "# Create the empty list:\n",
    "formatted_dfs = []\n",
    "\n",
    "# Iterate through our frames\n",
    "for f in frames.keys():\n",
    "    df = format_dataframe(frames, f)\n",
    "    # Add the formatted frame to our list\n",
    "    formatted_dfs.append(df)\n",
    "'''\n",
    "\n",
    "# List Comprehension\n",
    "formatted_dfs = [format_dataframe(frames, f) for f in frames.keys()]"
   ]
  },
  {
   "cell_type": "markdown",
   "metadata": {},
   "source": [
    "We're going to take it one step further.  Instead of creating the list `formatted_dfs`, we're going to create our assembled DataFrame directly from the list comprehension: "
   ]
  },
  {
   "cell_type": "code",
   "execution_count": null,
   "metadata": {},
   "outputs": [],
   "source": [
    "summary_df = pd.concat([format_dataframe(frames, f) for f in frames.keys()], ignore_index=False)"
   ]
  },
  {
   "cell_type": "code",
   "execution_count": null,
   "metadata": {},
   "outputs": [],
   "source": [
    "summary_df.head()"
   ]
  },
  {
   "cell_type": "markdown",
   "metadata": {},
   "source": [
    "That's much shorter, faster, and easier to write.  As you learn more about Python, you'll find there are some cases where it's better to use a list comprehension and others where a `for loop` is better.  \n",
    "\n",
    "### Exercise: Writing the data to Excel\n",
    "* We're going to be doing more with our supply information in a later lesson.\n",
    "* For now we want to write `summary_df` to Excel with a few minor changes:\n",
    "* * The column order should be: Month, Supplier, Incoming, Outgoing, On-Hand\n",
    "* * We want the Incoming column to be Excel's 'Good' cell format, only if the value is greater than zero\n",
    "* * We want the Outgoing column to be Excel's 'Neutral' cell format, only if the value is greater than zero\n",
    "* * We want the Balance column to be Excel's 'Bad' cell format if the balance is 25 or less\n",
    "\n",
    "To save time, the Hex color codes are as follows:\n",
    "```\n",
    "Good:\n",
    "- Background: #C6EFCE\n",
    "- Font: #006100\n",
    "\n",
    "Neutral\n",
    "- Background: #FFEB9C\n",
    "- Font: #9C5700\n",
    "\n",
    "Bad\n",
    "- Background: #FFC7CE\n",
    "- Font: #9C0006\n",
    "```\n",
    "\n",
    "For the exercise, complete the code below to write the data to Excel:\n",
    "* The output file name is `supply_summary.xlsx`\n",
    "* The sheet name is `Supply Summary`"
   ]
  },
  {
   "cell_type": "markdown",
   "metadata": {},
   "source": [
    "#### Reorder the columns:"
   ]
  },
  {
   "cell_type": "code",
   "execution_count": null,
   "metadata": {},
   "outputs": [],
   "source": [
    "summary_df = summary_df[['___', 'Supplier', '___', 'Outgoing', '___']]"
   ]
  },
  {
   "cell_type": "code",
   "execution_count": null,
   "metadata": {},
   "outputs": [],
   "source": [
    "summary_df.head()"
   ]
  },
  {
   "cell_type": "markdown",
   "metadata": {},
   "source": [
    "#### Define the workbook:"
   ]
  },
  {
   "cell_type": "code",
   "execution_count": null,
   "metadata": {},
   "outputs": [],
   "source": [
    "output_file = os.path.join('..', 'data', '_____')\n",
    "writer = pd.ExcelWriter(output_file, engine='xlsxwriter')\n",
    "workbook = writer.book"
   ]
  },
  {
   "cell_type": "markdown",
   "metadata": {},
   "source": [
    "#### Define the formats:\n",
    "* The header format is defined for you.\n",
    "* The number format is `#,##0`"
   ]
  },
  {
   "cell_type": "code",
   "execution_count": null,
   "metadata": {},
   "outputs": [],
   "source": [
    "# Define the format for our header:\n",
    "header_format = workbook.add_format({\n",
    "    'bold': True, #Bold Font: This value must be either True or False\n",
    "    'align': 'center', #Center Alignment\n",
    "    'valign': 'top', #Top Alignment\n",
    "    'fg_color': '#4472C1', #Cell Color\n",
    "    'font_color': 'white', #Font Color\n",
    "    'font_size': 12, #Font Size\n",
    "})"
   ]
  },
  {
   "cell_type": "code",
   "execution_count": null,
   "metadata": {},
   "outputs": [],
   "source": [
    "# Define the format for our numbers:\n",
    "number_format = workbook.add_format({'num_format': '_____'})"
   ]
  },
  {
   "cell_type": "markdown",
   "metadata": {},
   "source": [
    "#### Color Formats:\n",
    "* Remember, we need three color formats:\n",
    "* * Good \n",
    "* * Neutral \n",
    "* * Bad"
   ]
  },
  {
   "cell_type": "code",
   "execution_count": null,
   "metadata": {
    "scrolled": true
   },
   "outputs": [],
   "source": [
    "good_color = workbook.add_format({'bg_color': '#C6EFCE',\n",
    "                            'font_color': '#006100'})\n",
    "\n",
    "neutral_color = workbook.add_format({'bg_color': '_____',\n",
    "                            'font_color': '_____'})\n",
    "\n",
    "bad_color = workbook.add_format({'_____': '_____',\n",
    "                            '_____': '_____'})"
   ]
  },
  {
   "cell_type": "markdown",
   "metadata": {},
   "source": [
    "#### Write the Data to Excel:"
   ]
  },
  {
   "cell_type": "code",
   "execution_count": null,
   "metadata": {},
   "outputs": [],
   "source": [
    "# Define the sheet and write the data to Excel\n",
    "sheet = '_____'\n",
    "_____.to_excel(writer, sheet_name=sheet, index=False)"
   ]
  },
  {
   "cell_type": "code",
   "execution_count": null,
   "metadata": {},
   "outputs": [],
   "source": [
    "# Define the worksheet\n",
    "worksheet = writer.sheets[sheet]"
   ]
  },
  {
   "cell_type": "code",
   "execution_count": null,
   "metadata": {},
   "outputs": [],
   "source": [
    "# Write the headers to the worksheet\n",
    "for col_num, value in enumerate(_____.columns.values):\n",
    "    worksheet.write(0, col_num, value, header_format)"
   ]
  },
  {
   "cell_type": "code",
   "execution_count": null,
   "metadata": {},
   "outputs": [],
   "source": [
    "# Set the numerical columns\n",
    "worksheet.set_column('A:B', 14, None)\n",
    "worksheet.set_column('C:E', 14, number_format)"
   ]
  },
  {
   "cell_type": "markdown",
   "metadata": {},
   "source": [
    "#### Assign the color formats"
   ]
  },
  {
   "cell_type": "code",
   "execution_count": null,
   "metadata": {},
   "outputs": [],
   "source": [
    "# Define rows and columns\n",
    "first_row = 1\n",
    "last_row = len(summary_df.index)\n",
    "incoming_column = 2\n",
    "outgoing_column = 3\n",
    "on_hand_column = 4\n",
    "\n",
    "\n",
    "# Set the color conditions\n",
    "incoming_col_condition = {\n",
    "    'type': 'cell', # Because we want to apply the formatting to each individual cell\n",
    "    'criteria': '>', # for greater than\n",
    "    'value': 0,\n",
    "    'format': _____,\n",
    "}\n",
    "\n",
    "outgoing_col_condition = {\n",
    "    'type': 'cell', \n",
    "    'criteria': '>', \n",
    "    'value': 0,\n",
    "    'format': neutral_color,\n",
    "}\n",
    "\n",
    "on_hand_col_condition = {\n",
    "    'type': 'cell', \n",
    "    'criteria': '<=', # for less than or equal to\n",
    "    'value': 25,\n",
    "    'format': _____,\n",
    "}"
   ]
  },
  {
   "cell_type": "code",
   "execution_count": null,
   "metadata": {},
   "outputs": [],
   "source": [
    "# Apply the color formats\n",
    "\n",
    "# Incoming Column\n",
    "worksheet.conditional_format(first_row,\n",
    "                            incoming_column,\n",
    "                            last_row,\n",
    "                            incoming_column,\n",
    "                            ______)\n",
    "\n",
    "# Outgoing Column\n",
    "worksheet.conditional_format(first_row,\n",
    "                            outgoing_column,\n",
    "                            last_row,\n",
    "                            outgoing_column,\n",
    "                            _____)\n",
    "# On Hand Column\n",
    "worksheet.conditional_format(first_row,\n",
    "                            on_hand_column,\n",
    "                            last_row,\n",
    "                            on_hand_column,\n",
    "                            _____)"
   ]
  },
  {
   "cell_type": "markdown",
   "metadata": {},
   "source": [
    "#### Save the File:"
   ]
  },
  {
   "cell_type": "code",
   "execution_count": null,
   "metadata": {},
   "outputs": [],
   "source": [
    "writer.save()"
   ]
  },
  {
   "cell_type": "code",
   "execution_count": null,
   "metadata": {},
   "outputs": [],
   "source": []
  }
 ],
 "metadata": {
  "kernelspec": {
   "display_name": "Python 3",
   "language": "python",
   "name": "python3"
  },
  "language_info": {
   "codemirror_mode": {
    "name": "ipython",
    "version": 3
   },
   "file_extension": ".py",
   "mimetype": "text/x-python",
   "name": "python",
   "nbconvert_exporter": "python",
   "pygments_lexer": "ipython3",
   "version": "3.7.3"
  }
 },
 "nbformat": 4,
 "nbformat_minor": 2
}
