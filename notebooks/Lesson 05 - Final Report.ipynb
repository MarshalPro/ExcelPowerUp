{
 "cells": [
  {
   "cell_type": "markdown",
   "metadata": {},
   "source": [
    "## Lesson 05 - The Final Report\n",
    "\n",
    "#### Overview: \n",
    "\n",
    "In this lesson we're going to put together a simple summary report with a roll-up of the data we've looked at so far and a basic graph to show you how to interact with Excel's graphs.\n",
    "\n",
    "#### Handy References:\n",
    "* [Official Python Documentation](https://docs.python.org/3/)\n",
    "* [Jupyter Notebook Documentation](https://jupyter-notebook.readthedocs.io/en/stable/notebook.html)\n",
    "* [Pandas](https://pandas.pydata.org/)\n",
    "* [XlsxWriter](https://xlsxwriter.readthedocs.io/)"
   ]
  },
  {
   "cell_type": "markdown",
   "metadata": {},
   "source": [
    "### The Data\n",
    "\n",
    "Rather than to through the process of reading and formatting all the previous files we've looked at, I've put them into a single file called 'combined_report.xlsx' with four sheets: Sales, Billing, Supply, and HR.  We're going to read all four sheets into our notebook, do some formatting and clean-up, then combine them into a single DataFrame."
   ]
  },
  {
   "cell_type": "code",
   "execution_count": null,
   "metadata": {},
   "outputs": [],
   "source": [
    "# File Imports\n",
    "import pandas as pd\n",
    "import xlsxwriter\n",
    "import os"
   ]
  },
  {
   "cell_type": "code",
   "execution_count": null,
   "metadata": {},
   "outputs": [],
   "source": [
    "# Define the path to the file\n",
    "combined_report = os.path.join('..', 'data', 'combined_report.xlsx')"
   ]
  },
  {
   "cell_type": "code",
   "execution_count": null,
   "metadata": {},
   "outputs": [],
   "source": [
    "# Read the file into our notebook\n",
    "frames = pd.read_excel(combined_report, sheet_name=None)"
   ]
  },
  {
   "cell_type": "code",
   "execution_count": null,
   "metadata": {},
   "outputs": [],
   "source": [
    "# Summarize the Sales Data\n",
    "sales_summary = pd.DataFrame(frames['Sales']).groupby(['Month'], as_index=False).agg({\n",
    "    'Amt': [sum],\n",
    "    'Commission': [sum]\n",
    "})"
   ]
  },
  {
   "cell_type": "code",
   "execution_count": null,
   "metadata": {},
   "outputs": [],
   "source": [
    "# Rename the columns\n",
    "sales_summary.columns = ['Month', 'Sales Amount', 'Sales Commission']"
   ]
  },
  {
   "cell_type": "markdown",
   "metadata": {},
   "source": [
    "#### Categorical Data\n",
    "* To make it easier to sort our months without changing them to date-times and back again, we're going to use [pd.Categorical](https://pandas.pydata.org/pandas-docs/stable/user_guide/categorical.html) to assign the 'Month' column as a Categorical data type and manually define how it should be sorted.\n",
    "* Then we'll use [sort_values](https://pandas.pydata.org/pandas-docs/stable/reference/api/pandas.DataFrame.sort_values.html) to sort our table in the order specified."
   ]
  },
  {
   "cell_type": "code",
   "execution_count": null,
   "metadata": {},
   "outputs": [],
   "source": [
    "# Define the category\n",
    "sales_summary['Month'] = pd.Categorical(sales_summary['Month'], ['March', 'April', 'May'])"
   ]
  },
  {
   "cell_type": "code",
   "execution_count": null,
   "metadata": {},
   "outputs": [],
   "source": [
    "# Sort the values\n",
    "sales_summary.sort_values(by=['Month'], inplace=True)"
   ]
  },
  {
   "cell_type": "code",
   "execution_count": null,
   "metadata": {},
   "outputs": [],
   "source": [
    "# Preview our data\n",
    "sales_summary.head()"
   ]
  },
  {
   "cell_type": "markdown",
   "metadata": {},
   "source": [
    "Now we'll use that same method to build our billing, supply, and HR tables: "
   ]
  },
  {
   "cell_type": "code",
   "execution_count": null,
   "metadata": {},
   "outputs": [],
   "source": [
    "billing_summary = pd.DataFrame(frames['Billing']).groupby(['Month'], as_index=False).agg({\n",
    "    'Total Billed': [sum],\n",
    "    'Total Paid': [sum],\n",
    "})"
   ]
  },
  {
   "cell_type": "code",
   "execution_count": null,
   "metadata": {},
   "outputs": [],
   "source": [
    "billing_summary.columns = ['Month', 'Amount Billed', 'Amount Paid']"
   ]
  },
  {
   "cell_type": "code",
   "execution_count": null,
   "metadata": {},
   "outputs": [],
   "source": [
    "billing_summary['Month'] = pd.Categorical(billing_summary['Month'], ['March', 'April', 'May'])"
   ]
  },
  {
   "cell_type": "code",
   "execution_count": null,
   "metadata": {},
   "outputs": [],
   "source": [
    "billing_summary.sort_values(by=['Month'], inplace=True)"
   ]
  },
  {
   "cell_type": "code",
   "execution_count": null,
   "metadata": {},
   "outputs": [],
   "source": [
    "billing_summary['Outstanding Balance'] = billing_summary['Amount Billed'] - billing_summary['Amount Paid']"
   ]
  },
  {
   "cell_type": "code",
   "execution_count": null,
   "metadata": {},
   "outputs": [],
   "source": [
    "billing_summary.head()"
   ]
  },
  {
   "cell_type": "code",
   "execution_count": null,
   "metadata": {},
   "outputs": [],
   "source": [
    "supply_summary = pd.DataFrame(frames['Supply']).groupby(['Month'], as_index=False).agg({\n",
    "    'Incoming': [sum],\n",
    "    'Outgoing': [sum],\n",
    "    'On-Hand': [sum],\n",
    "})"
   ]
  },
  {
   "cell_type": "code",
   "execution_count": null,
   "metadata": {},
   "outputs": [],
   "source": [
    "supply_summary.columns = ['Month', 'Supply - Incoming', 'Supply - Outgoing', 'Supply - On-Hand']"
   ]
  },
  {
   "cell_type": "code",
   "execution_count": null,
   "metadata": {},
   "outputs": [],
   "source": [
    "supply_summary['Month'] = pd.Categorical(supply_summary['Month'], ['March', 'April', 'May'])"
   ]
  },
  {
   "cell_type": "code",
   "execution_count": null,
   "metadata": {},
   "outputs": [],
   "source": [
    "supply_summary.sort_values(by=['Month'], inplace=True)"
   ]
  },
  {
   "cell_type": "code",
   "execution_count": null,
   "metadata": {},
   "outputs": [],
   "source": [
    "supply_summary.head()"
   ]
  },
  {
   "cell_type": "code",
   "execution_count": null,
   "metadata": {},
   "outputs": [],
   "source": [
    "hr_summary = pd.DataFrame(frames['HR']).groupby(['Month'], as_index=False).agg({\n",
    "    'Complaints Received': [sum],\n",
    "})"
   ]
  },
  {
   "cell_type": "code",
   "execution_count": null,
   "metadata": {},
   "outputs": [],
   "source": [
    "hr_summary.columns = ['Month', 'HR Incidents']"
   ]
  },
  {
   "cell_type": "code",
   "execution_count": null,
   "metadata": {},
   "outputs": [],
   "source": [
    "hr_summary['Month'] = pd.Categorical(hr_summary['Month'], ['March', 'April', 'May'])"
   ]
  },
  {
   "cell_type": "code",
   "execution_count": null,
   "metadata": {},
   "outputs": [],
   "source": [
    "hr_summary.sort_values(by=['Month'], inplace=True)"
   ]
  },
  {
   "cell_type": "code",
   "execution_count": null,
   "metadata": {},
   "outputs": [],
   "source": [
    "hr_summary.head()"
   ]
  },
  {
   "cell_type": "markdown",
   "metadata": {},
   "source": [
    "#### Horizontal Concatenation\n",
    "* We've used `pd.concat()` to combine multiple DataFrames in previous lessons.  \n",
    "* We're going to use that same method here, only with the added argument of `axis=1` to specify that we want to combine them horizontally. \n",
    "* We will then `transpose()` the combined DataFrame so we can drop the duplicated 'Month' column.\n",
    "* Lastly, we'll `transpose()` the DataFrame a final time to bring it back to its original state."
   ]
  },
  {
   "cell_type": "code",
   "execution_count": null,
   "metadata": {},
   "outputs": [],
   "source": [
    "summary_df = pd.concat([sales_summary, billing_summary, supply_summary, hr_summary], axis=1).\\\n",
    "                T.drop_duplicates().T"
   ]
  },
  {
   "cell_type": "code",
   "execution_count": null,
   "metadata": {},
   "outputs": [],
   "source": [
    "summary_df.head()"
   ]
  },
  {
   "cell_type": "code",
   "execution_count": null,
   "metadata": {},
   "outputs": [],
   "source": [
    "summary_df.info()"
   ]
  },
  {
   "cell_type": "markdown",
   "metadata": {},
   "source": [
    "#### Numeric Types\n",
    "* If you look at the output from `.info()` you'll see that our number columns are objects and not numbers.\n",
    "* We're going to use [pd.to_numeric()](https://pandas.pydata.org/pandas-docs/stable/reference/api/pandas.to_numeric.html#pandas.to_numeric) to convert their type so that we can get a \"Total\" row.\n",
    "* We'll do that by passing a list of our columns to `pd.to_numeric()` wwith the `errors='ignore'` argument.  This ensures that non-numeric columns like 'Month' are not effected."
   ]
  },
  {
   "cell_type": "code",
   "execution_count": null,
   "metadata": {},
   "outputs": [],
   "source": [
    "# Get a list of columns in our DataFrame\n",
    "cols = summary_df.columns"
   ]
  },
  {
   "cell_type": "code",
   "execution_count": null,
   "metadata": {},
   "outputs": [],
   "source": [
    "# Convert the columns to a Numeric type\n",
    "summary_df[cols] = summary_df[cols].apply(pd.to_numeric, errors='ignore')"
   ]
  },
  {
   "cell_type": "code",
   "execution_count": null,
   "metadata": {},
   "outputs": [],
   "source": [
    "# Verify the type conversion worked\n",
    "summary_df.info()"
   ]
  },
  {
   "cell_type": "markdown",
   "metadata": {},
   "source": [
    "#### Getting a Total Row\n",
    "* We want the bottom row of our DataFrame to be a 'Total Row'.\n",
    "* We will do this by setting the index to the 'Month' Column so we can add a new index entry\n",
    "* Then we'll create a new index entry with `df.loc[row_name]` and assign the row's values to the [sum()](https://pandas.pydata.org/pandas-docs/stable/reference/api/pandas.DataFrame.sum.html) of the previous rows.\n",
    "* Finally, we'll use `reset_index()` to put the 'Month' column back where it should be."
   ]
  },
  {
   "cell_type": "code",
   "execution_count": null,
   "metadata": {},
   "outputs": [],
   "source": [
    "# Set 'Month' as the index\n",
    "summary_df.set_index('Month', inplace=True)"
   ]
  },
  {
   "cell_type": "code",
   "execution_count": null,
   "metadata": {},
   "outputs": [],
   "source": [
    "summary_df.head()"
   ]
  },
  {
   "cell_type": "code",
   "execution_count": null,
   "metadata": {},
   "outputs": [],
   "source": [
    "# Create a 'Total' row\n",
    "summary_df.loc[\"Total\"] = summary_df.sum()"
   ]
  },
  {
   "cell_type": "code",
   "execution_count": null,
   "metadata": {},
   "outputs": [],
   "source": [
    "# Reset the index\n",
    "summary_df.reset_index(inplace=True)"
   ]
  },
  {
   "cell_type": "code",
   "execution_count": null,
   "metadata": {},
   "outputs": [],
   "source": [
    "# Now let's preview our data\n",
    "summary_df.head()"
   ]
  },
  {
   "cell_type": "markdown",
   "metadata": {},
   "source": [
    "### Writing to Excel\n",
    "Most of this should look familiar.  We're going to write our DataFrame to Excel like we've done in the past, with a few minor changes.  What's really new is we're going to add in some custom header text above the DataFrame and add in a simple bar chart.\n",
    "\n",
    "#### Define the Output File:"
   ]
  },
  {
   "cell_type": "code",
   "execution_count": null,
   "metadata": {},
   "outputs": [],
   "source": [
    "output_file = os.path.join('..', 'data', 'Quarterly Report.xlsx')\n",
    "writer = pd.ExcelWriter(output_file, engine='xlsxwriter')\n",
    "workbook = writer.book"
   ]
  },
  {
   "cell_type": "markdown",
   "metadata": {},
   "source": [
    "#### Define the formats:\n",
    "* We have a couple of new formats: `title_format` and `subheader_format`.  By now you should be familiar with how these are put together. "
   ]
  },
  {
   "cell_type": "code",
   "execution_count": null,
   "metadata": {},
   "outputs": [],
   "source": [
    "# Define the format for our header:\n",
    "title_format = workbook.add_format({\n",
    "    'bold': True, \n",
    "    'align': 'center', \n",
    "    'valign': 'top',\n",
    "    'fg_color': '#4472C1',\n",
    "    'font_color': 'white',\n",
    "    'font_size': 16,\n",
    "})\n",
    "\n",
    "header_format = workbook.add_format({\n",
    "    'bold': True,\n",
    "    'align': 'center',\n",
    "    'valign': 'top',\n",
    "    'fg_color': '#4472C1',\n",
    "    'font_color': 'white',\n",
    "    'font_size': 12,\n",
    "})\n",
    "\n",
    "# Define the subheader format:\n",
    "subheader_format = workbook.add_format({\n",
    "            'bold': False,\n",
    "            'align': 'center',\n",
    "            'valign': 'top',\n",
    "            'fg_color': '#8EA9DB',\n",
    "            'font_color': 'black',\n",
    "            'text_wrap': 1,\n",
    "            'border': 1})\n",
    "\n",
    "# Define the format for our numbers:\n",
    "number_format = workbook.add_format({'num_format': '#,##0'})\n",
    "accounting_format = workbook.add_format({'num_format': '$#,##0'})"
   ]
  },
  {
   "cell_type": "markdown",
   "metadata": {},
   "source": [
    "#### Define our Worksheet and Write to Excel\n",
    "* Notice we've added `startrow=3` and `header=False` as arguments here.\n",
    "* We're doing this to leave room for the extra text we will add to the top of the worksheet later."
   ]
  },
  {
   "cell_type": "code",
   "execution_count": null,
   "metadata": {},
   "outputs": [],
   "source": [
    "sheet = 'Summary'\n",
    "summary_df.to_excel(writer, sheet_name=sheet, startrow=3, index=False, header=False)"
   ]
  },
  {
   "cell_type": "code",
   "execution_count": null,
   "metadata": {},
   "outputs": [],
   "source": [
    "worksheet = writer.sheets[sheet]"
   ]
  },
  {
   "cell_type": "code",
   "execution_count": null,
   "metadata": {},
   "outputs": [],
   "source": [
    "for col_num, value in enumerate(summary_df.columns.values):\n",
    "    worksheet.write(2, col_num, value, header_format)"
   ]
  },
  {
   "cell_type": "markdown",
   "metadata": {},
   "source": [
    "#### Column Formatting:\n",
    "* In the past we've had to manually figure out which Excel column belonged to which DataFrame Column.\n",
    "* The method I use below gets us the column number for our columns using Python's build-in .index() method on our column list."
   ]
  },
  {
   "cell_type": "code",
   "execution_count": null,
   "metadata": {},
   "outputs": [],
   "source": [
    "# Get the column number for month\n",
    "month_column = list(summary_df.columns).index('Month')\n",
    "\n",
    "# Get the column numbers for accounting columns\n",
    "accounting_start = list(summary_df.columns).index('Sales Amount')\n",
    "accounting_end = list(summary_df.columns).index('Outstanding Balance')\n",
    "\n",
    "# Get the number column numbers\n",
    "num_start = list(summary_df.columns).index('Supply - Incoming')\n",
    "num_end = list(summary_df.columns).index('HR Incidents')"
   ]
  },
  {
   "cell_type": "markdown",
   "metadata": {},
   "source": [
    "Using those column numbers, we can set our column formatting based on the numbers of the first and last columns we want the formatting applied to: "
   ]
  },
  {
   "cell_type": "code",
   "execution_count": null,
   "metadata": {},
   "outputs": [],
   "source": [
    "# Set the column formats\n",
    "\n",
    "# Month Column\n",
    "worksheet.set_column(month_column, month_column, 14, None)\n",
    "\n",
    "# Accounting Columns\n",
    "worksheet.set_column(accounting_start, accounting_end, 14, accounting_format)\n",
    "\n",
    "# Number Columns\n",
    "worksheet.set_column(num_start, num_end, 14, number_format)"
   ]
  },
  {
   "cell_type": "markdown",
   "metadata": {},
   "source": [
    "#### Writing Raw Text to Excel:\n",
    "* Most of the time, we're not just writing tables to Excel.  We need text, headers, labels, etc.\n",
    "* You can write text to Excel using [worksheet.write()](https://xlsxwriter.readthedocs.io/worksheet.html?highlight=worksheet.write).\n",
    "* However, for this case we need to write to a merged range of cells.  We do that with [worksheet.merge_range()](https://xlsxwriter.readthedocs.io/worksheet.html?highlight=worksheet.merge_range()).  \n",
    "* `merge_range` works by defining the start row, start column, stop row, and stop column, then the text we want to write, then the format we want applied:"
   ]
  },
  {
   "cell_type": "code",
   "execution_count": null,
   "metadata": {},
   "outputs": [],
   "source": [
    "# Writing the Headers\n",
    "worksheet.merge_range(0, 0, 0, len(summary_df.columns)-1, 'Dunder Mifflin Scranton', title_format)\n",
    "worksheet.merge_range(1, 0, 1, len(summary_df.columns)-1, 'Quarterly Summary', subheader_format)"
   ]
  },
  {
   "cell_type": "markdown",
   "metadata": {},
   "source": [
    "#### Excel Charts\n",
    "* Xlsxwriter can create any chart that Excel can create.  The charting functionality is extensive and could span multiple classes all on its own.\n",
    "* For this class we'll get a brief introduction to charting by making a simple bar graph.  \n",
    "* I encourage you to take a look at [The Chart Class](https://xlsxwriter.readthedocs.io/chart.html) documentation to get a feel for just how powerful this can be."
   ]
  },
  {
   "cell_type": "markdown",
   "metadata": {},
   "source": [
    "#### Defining the Chart:"
   ]
  },
  {
   "cell_type": "code",
   "execution_count": null,
   "metadata": {},
   "outputs": [],
   "source": [
    "simple_chart = workbook.add_chart({'type': 'column'})"
   ]
  },
  {
   "cell_type": "markdown",
   "metadata": {},
   "source": [
    "#### Setting the Data Range:\n",
    "* We'll start by defining the columns we want to include in the chart\n",
    "* Then we'll define the column we want to use for charting.  In this case it's the first column, or zero.\n",
    "* Next we will define the rows we want included.  In our case, the table starts on row 3 and I want to stop just before the total row, or row 5."
   ]
  },
  {
   "cell_type": "code",
   "execution_count": null,
   "metadata": {},
   "outputs": [],
   "source": [
    "chart_columns = ['Sales Amount', 'Amount Billed', 'Amount Paid']\n",
    "category_column = 0\n",
    "first_row = 3\n",
    "last_row = 5"
   ]
  },
  {
   "cell_type": "markdown",
   "metadata": {},
   "source": [
    "#### Adding Data to the Chart\n",
    "* We will use a `For` loop to iterate through our `chart_columns`\n",
    "* For each column:\n",
    "* * Get the column number\n",
    "* * Add the data from that column using `add_series()`\n",
    "\n",
    "* `add_series()` needs:\n",
    "* * Series Name: `name`\n",
    "* * Categories: `categories` - The category labels for our series.  This is a list containing the source sheet, first row, first column, last row, and last column of our categories.  In our case, we are using the category column.\n",
    "* * Values: `values` - The data we want to add to the chart.  This is similiar to `categories`."
   ]
  },
  {
   "cell_type": "code",
   "execution_count": null,
   "metadata": {},
   "outputs": [],
   "source": [
    "# Remember, for categories and values the order is [sheetname, first_row, first_col, last_row, last_col]\n",
    "for col in chart_columns:\n",
    "    # Get the column number of the data we want to add\n",
    "    col_num = list(summary_df.columns).index(col)\n",
    "    # Add the series\n",
    "    simple_chart.add_series({\n",
    "        'name': col,\n",
    "        'categories': [sheet, first_row, category_column, last_row, category_column],\n",
    "        'values': [sheet, first_row, col_num, last_row, col_num]\n",
    "    })"
   ]
  },
  {
   "cell_type": "code",
   "execution_count": null,
   "metadata": {},
   "outputs": [],
   "source": [
    "# Set the chart title\n",
    "simple_chart.set_title({'name': 'Simple Bar Chart'})"
   ]
  },
  {
   "cell_type": "markdown",
   "metadata": {},
   "source": [
    "#### Inserting the Chart\n",
    "* You can add the chart to the workbook using `insert_chart` and passing the cell where you want the chart to begin."
   ]
  },
  {
   "cell_type": "code",
   "execution_count": null,
   "metadata": {},
   "outputs": [],
   "source": [
    "worksheet.insert_chart('A9', simple_chart)"
   ]
  },
  {
   "cell_type": "code",
   "execution_count": null,
   "metadata": {},
   "outputs": [],
   "source": [
    "# Save the file\n",
    "writer.save()"
   ]
  },
  {
   "cell_type": "markdown",
   "metadata": {},
   "source": [
    "### Exercise - Making a Bar Chart\n",
    "* For this exercise, you'll be reading in the \"Expense Summary\" sheet from \"accounting_summary_master.xlsx\".\n",
    "* Once the file is read into our notebook, do the following:\n",
    "* * Summarize the Expenses by Employee and get their total Amount Paid\n",
    "* * Sort the new DataFrame by Amount Paid in Descending Order\n",
    "* * Rename the columns to \"Employee\" and \"Amount Paid\"\n",
    "* * Write the new DataFrame to Excel with \"Amount Paid\" having an accounting format\n",
    "* * Insert a bar chart in cell C1\n",
    "* * Save the file"
   ]
  },
  {
   "cell_type": "code",
   "execution_count": null,
   "metadata": {},
   "outputs": [],
   "source": [
    "# Define the path to the file\n",
    "accounting_file = os.path.join(_____, 'data', _____)"
   ]
  },
  {
   "cell_type": "code",
   "execution_count": null,
   "metadata": {},
   "outputs": [],
   "source": [
    "# Read the 'Expense Summary' sheet into a DataFrame\n",
    "expense_df = pd._____(accounting_file, sheet_name='Expense Summary')"
   ]
  },
  {
   "cell_type": "code",
   "execution_count": null,
   "metadata": {},
   "outputs": [],
   "source": [
    "# Create a summary DataFrame grouped by 'Employee' with the total 'Amount Paid' for each\n",
    "summary_df = expense_df._____([_____], as_index=False).agg({\n",
    "    'Amount Paid': [_____]\n",
    "})"
   ]
  },
  {
   "cell_type": "code",
   "execution_count": null,
   "metadata": {},
   "outputs": [],
   "source": [
    "# Rename the columns\n",
    "summary_df._____ = ['Employee', 'Amount Paid']"
   ]
  },
  {
   "cell_type": "code",
   "execution_count": null,
   "metadata": {},
   "outputs": [],
   "source": [
    "# Sort by 'Amount Paid' in descending order\n",
    "summary_df._____(by=['Amount Paid'], ascending=_____, inplace=True)"
   ]
  },
  {
   "cell_type": "code",
   "execution_count": null,
   "metadata": {},
   "outputs": [],
   "source": [
    "# Define the output file and the writer\n",
    "output_file = __.____.____('..', 'data', 'Expense Report.xlsx')\n",
    "writer = pd.ExcelWriter(output_file, engine='xlsxwriter')\n",
    "workbook = writer.book"
   ]
  },
  {
   "cell_type": "code",
   "execution_count": null,
   "metadata": {},
   "outputs": [],
   "source": [
    "# Define the format for our header:\n",
    "header_format = workbook.add_format({\n",
    "    'bold': True,\n",
    "    'align': 'center',\n",
    "    'valign': 'top',\n",
    "    'fg_color': '#4472C1',\n",
    "    'font_color': 'white',\n",
    "    'font_size': 12,\n",
    "})\n",
    "\n",
    "# Define the format for Amount Paid\n",
    "accounting_format = workbook.add_format({_____: '$#,##0'})"
   ]
  },
  {
   "cell_type": "code",
   "execution_count": null,
   "metadata": {},
   "outputs": [],
   "source": [
    "# Define the sheet\n",
    "sheet = 'Summary'\n",
    "summary_df._____(writer, sheet_name=sheet, index=False)"
   ]
  },
  {
   "cell_type": "code",
   "execution_count": null,
   "metadata": {},
   "outputs": [],
   "source": [
    "# Define the worksheet\n",
    "worksheet = writer._____[sheet]"
   ]
  },
  {
   "cell_type": "code",
   "execution_count": null,
   "metadata": {},
   "outputs": [],
   "source": [
    "# Write the data to Excel\n",
    "for col_num, value in enumerate(_____.columns.values):\n",
    "    worksheet.write(0, col_num, value, _____)"
   ]
  },
  {
   "cell_type": "code",
   "execution_count": null,
   "metadata": {},
   "outputs": [],
   "source": [
    "# Apply the accounting format to the 'Amount Paid' column\n",
    "worksheet.________('B:B', 14, accounting_format)"
   ]
  },
  {
   "cell_type": "code",
   "execution_count": null,
   "metadata": {},
   "outputs": [],
   "source": [
    "# Define the chart\n",
    "simple_chart = workbook.________({'type': 'column'})"
   ]
  },
  {
   "cell_type": "code",
   "execution_count": null,
   "metadata": {},
   "outputs": [],
   "source": [
    "# Define some chart variables\n",
    "category_column = 0\n",
    "first_row = 1\n",
    "last_row = 9"
   ]
  },
  {
   "cell_type": "code",
   "execution_count": null,
   "metadata": {},
   "outputs": [],
   "source": [
    "# Add data to the chart\n",
    "# Remember, for categories and values the order is [sheetname, first_row, first_col, last_row, last_col]\n",
    "\n",
    "# Define the 'Amount Paid' column\n",
    "amount_column = _____\n",
    "\n",
    "# Get the column number for the 'Amount Paid' column\n",
    "col_num = ____(summary_df.columns)._____(amount_column)\n",
    "\n",
    "# Add the series to the chart\n",
    "simple_chart.add_series({\n",
    "    'name': ______,\n",
    "    'categories': [sheet, _____, category_column, _____, category_column],\n",
    "    'values': [sheet, _____, col_num, _____, col_num]\n",
    "    })"
   ]
  },
  {
   "cell_type": "code",
   "execution_count": null,
   "metadata": {},
   "outputs": [],
   "source": [
    "# Set the chart title\n",
    "simple_chart._____({'name': 'Expense Chart'})"
   ]
  },
  {
   "cell_type": "code",
   "execution_count": null,
   "metadata": {},
   "outputs": [],
   "source": [
    "# Insert the chart into the sheet\n",
    "worksheet._____(_____, simple_chart)"
   ]
  },
  {
   "cell_type": "code",
   "execution_count": null,
   "metadata": {},
   "outputs": [],
   "source": [
    "# Save the file\n",
    "writer.save()"
   ]
  },
  {
   "cell_type": "code",
   "execution_count": null,
   "metadata": {},
   "outputs": [],
   "source": []
  }
 ],
 "metadata": {
  "kernelspec": {
   "display_name": "Python 3",
   "language": "python",
   "name": "python3"
  },
  "language_info": {
   "codemirror_mode": {
    "name": "ipython",
    "version": 3
   },
   "file_extension": ".py",
   "mimetype": "text/x-python",
   "name": "python",
   "nbconvert_exporter": "python",
   "pygments_lexer": "ipython3",
   "version": "3.7.3"
  }
 },
 "nbformat": 4,
 "nbformat_minor": 2
}
